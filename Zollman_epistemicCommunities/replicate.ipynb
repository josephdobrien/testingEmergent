{
 "cells": [
  {
   "cell_type": "code",
   "execution_count": 3,
   "metadata": {},
   "outputs": [],
   "source": [
    "import random\n",
    "import numpy as np\n",
    "from emergent.main import AgentModel"
   ]
  },
  {
   "cell_type": "code",
   "execution_count": null,
   "metadata": {},
   "outputs": [],
   "source": [
    "def generateInitialData(model: AgentModel):\n",
    "    initial_data = {\n",
    "        \"a_alpha\": random.randint(1, 4),\n",
    "        \"a_beta\": random.randint(1, 4),\n",
    "        \"b_alpha\": random.randint(1, 4),\n",
    "        \"b_beta\": random.randint(1, 4),\n",
    "    }\n",
    "    expectations = {\n",
    "        \"a_expectation\": initial_data[\"a_alpha\"]\n",
    "        / (initial_data[\"a_alpha\"] + initial_data[\"a_beta\"]), #A's expectation is its alpha value divided by the alpha + beta values\n",
    "        \"b_expectation\": initial_data[\"b_alpha\"]\n",
    "        / (initial_data[\"b_alpha\"] + initial_data[\"b_beta\"]), #B's expectation is its alpha value divided by the alpha + beta values\n",
    "    }\n",
    "    initial_data.update(expectations)\n",
    "    return initial_data"
   ]
  },
  {
   "cell_type": "code",
   "execution_count": 5,
   "metadata": {},
   "outputs": [],
   "source": [
    "def generateTimestepData(model: AgentModel):\n",
    "    graph = model.get_graph()\n",
    "\n",
    "    for _node, node_data in graph.nodes(data=True):\n",
    "        # agent pulls the \"a\" bandit arm\n",
    "        if node_data[\"a_expectation\"] > node_data[\"b_expectation\"]:\n",
    "            node_data[\"a_alpha\"] += int(\n",
    "                np.random.binomial(model[\"num_trials\"], model[\"a_objective\"], size=None)\n",
    "            )\n",
    "            # TODO\n",
    "            node_data[\"a_beta\"] += max(0, model[\"num_trials\"] - node_data[\"a_alpha\"])\n",
    "            node_data[\"a_expectation\"] = node_data[\"a_alpha\"] / (\n",
    "                node_data[\"a_alpha\"] + node_data[\"a_beta\"]\n",
    "            )\n",
    "\n",
    "        # agent pulls the \"b\" bandit arm\n",
    "        else:\n",
    "            node_data[\"b_alpha\"] += int(\n",
    "                np.random.binomial(model[\"num_trials\"], model[\"b_objective\"], size=None)\n",
    "            )\n",
    "            # TODO\n",
    "            node_data[\"b_beta\"] += max(0, model[\"num_trials\"] - node_data[\"b_alpha\"])\n",
    "            node_data[\"b_expectation\"] = node_data[\"b_alpha\"] / (\n",
    "                node_data[\"b_alpha\"] + node_data[\"b_beta\"]\n",
    "            )\n",
    "\n",
    "    model.set_graph(graph)"
   ]
  },
  {
   "cell_type": "code",
   "execution_count": 8,
   "metadata": {},
   "outputs": [],
   "source": [
    "def constructModel() -> AgentModel:\n",
    "    # Recreating the Zollman Model\n",
    "    model = AgentModel()\n",
    "    model.update_parameters({\"a_objective\": 0.19, \"b_objective\": 0.71, \"num_trials\": 30})\n",
    "\n",
    "    model.set_initial_data_function(generateInitialData)\n",
    "    model.set_timestep_function(generateTimestepData)\n",
    "\n",
    "    return model"
   ]
  },
  {
   "cell_type": "code",
   "execution_count": 9,
   "metadata": {},
   "outputs": [
    {
     "name": "stdout",
     "output_type": "stream",
     "text": [
      "0.3333333333333333 0.983451536643026\n",
      "0.3333333333333333 0.9679633867276888\n",
      "0.3870967741935484 0.9696969696969697\n",
      "0.4 0.9819819819819819\n",
      "0.5 0.9836065573770492\n",
      "0.7298850574712644 0.2\n",
      "0.782051282051282 0.3333333333333333\n",
      "0.21212121212121213 0.9710144927536232\n",
      "0.21212121212121213 0.9787735849056604\n",
      "0.22580645161290322 0.9636803874092009\n",
      "0.2 0.9705882352941176\n",
      "0.2 0.9796839729119639\n",
      "0.3225806451612903 0.9832535885167464\n",
      "0.25 0.9751693002257337\n",
      "0.3125 0.9716312056737588\n",
      "0.5 0.9795918367346939\n",
      "0.16129032258064516 0.9759036144578314\n",
      "0.6086956521739131 0.2\n",
      "0.21212121212121213 0.9696969696969697\n",
      "0.2 0.9862385321100917\n"
     ]
    }
   ],
   "source": [
    "model = constructModel()\n",
    "model[\"num_nodes\"] = 20\n",
    "model.initialize_graph()\n",
    "\n",
    "timesteps = 20\n",
    "\n",
    "for _ in range(timesteps):\n",
    "    model.timestep()\n",
    "\n",
    "graph = model.get_graph()\n",
    "\n",
    "for node, node_data in graph.nodes(data=True):\n",
    "    print(node_data[\"a_expectation\"], node_data[\"b_expectation\"])"
   ]
  }
 ],
 "metadata": {
  "kernelspec": {
   "display_name": "base",
   "language": "python",
   "name": "python3"
  },
  "language_info": {
   "codemirror_mode": {
    "name": "ipython",
    "version": 3
   },
   "file_extension": ".py",
   "mimetype": "text/x-python",
   "name": "python",
   "nbconvert_exporter": "python",
   "pygments_lexer": "ipython3",
   "version": "3.10.9"
  }
 },
 "nbformat": 4,
 "nbformat_minor": 2
}
