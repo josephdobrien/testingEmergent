{
 "cells": [
  {
   "cell_type": "code",
   "execution_count": 3,
   "metadata": {},
   "outputs": [],
   "source": [
    "import random\n",
    "import numpy as np\n",
    "import matplotlib.pyplot as plt\n",
    "import networkx as nx\n",
    "from itertools import combinations\n",
    "from emergent.main import AgentModel"
   ]
  },
  {
   "cell_type": "code",
   "execution_count": 6,
   "metadata": {},
   "outputs": [
    {
     "name": "stdout",
     "output_type": "stream",
     "text": [
      "Graph with 7 nodes and 12 edges\n"
     ]
    }
   ],
   "source": [
    "# Template initial data and timestep data functions\n",
    "\n",
    "\n",
    "def generateInitialData(model: AgentModel):\n",
    "    '''\n",
    "    This is where you will generate the initial data for a node\n",
    "    in your model. You can generate whatever data your model requires;\n",
    "    the following is just a placeholder.\n",
    "    '''\n",
    "    return {\"x_location\": random.randint(1, 50), \"y_location\": random.randint(1, 50)}\n",
    "\n",
    "\n",
    "def generateTimestepData(model: AgentModel):\n",
    "    '''\n",
    "    This is where you will define the change in data for all nodes\n",
    "    in your model following a timestep. Again, the function below is\n",
    "    just a placeholder.\n",
    "    '''\n",
    "    graph = model.get_graph()\n",
    "    for _node, node_data in graph.nodes(data=True):\n",
    "        node_data[\"x_location\"] += random.randint(-10, 10)\n",
    "\n",
    "    model.set_graph(graph)\n",
    "\n",
    "\n",
    "# Define AgentModel instance\n",
    "model = AgentModel()\n",
    "\n",
    "model[\"num_nodes\"] = 7\n",
    "model[\"default_bias\"] = 0.15\n",
    "\n",
    "# Graph types to choose from: [complete, wheel, cycle]\n",
    "# By default, the graph is complete\n",
    "model[\"graph_type\"] = \"wheel\"\n",
    "\n",
    "# We can also define our parameters with this helper function\n",
    "model.update_parameters({\"num_nodes\": 7, \"default_bias\": 0.15})\n",
    "\n",
    "\n",
    "model.set_initial_data_function(generateInitialData)\n",
    "model.set_timestep_function(generateTimestepData)\n",
    "\n",
    "# Initialize the graph\n",
    "model.initialize_graph()\n",
    "# Run for loop for number of timesteps\n",
    "timesteps = 100\n",
    "\n",
    "for _ in range(timesteps):\n",
    "    model.timestep()\n",
    "\n",
    "# Print results\n",
    "print(model.get_graph())\n"
   ]
  },
  {
   "cell_type": "code",
   "execution_count": null,
   "metadata": {},
   "outputs": [],
   "source": [
    "def generateInitialData(model: AgentModel):\n",
    "    model.n_agents = n_agents\n",
    "    model.network_type = network_type\n",
    "    model.p_true = p_true  # True probability of the better theory\n",
    "    model.p_false = 0.5 - (p_true - 0.5)  # False theory probability"
   ]
  },
  {
   "cell_type": "code",
   "execution_count": null,
   "metadata": {},
   "outputs": [],
   "source": [
    "def generateTimestepData(model: AgentModel):"
   ]
  },
  {
   "cell_type": "code",
   "execution_count": null,
   "metadata": {},
   "outputs": [],
   "source": [
    "def constructModel() -> AgentModel:"
   ]
  },
  {
   "cell_type": "code",
   "execution_count": null,
   "metadata": {},
   "outputs": [],
   "source": [
    "model = constructModel()\n",
    "model[\"num_nodes\"] = 20\n",
    "model.initialize_graph()\n",
    "\n",
    "timesteps = 20\n",
    "\n",
    "for _ in range(timesteps):\n",
    "    model.timestep()\n",
    "\n",
    "graph = model.get_graph()\n",
    "\n",
    "for node, node_data in graph.nodes(data=True):\n",
    "    print(node_data[\"a_expectation\"], node_data[\"b_expectation\"])"
   ]
  }
 ],
 "metadata": {
  "kernelspec": {
   "display_name": "base",
   "language": "python",
   "name": "python3"
  },
  "language_info": {
   "codemirror_mode": {
    "name": "ipython",
    "version": 3
   },
   "file_extension": ".py",
   "mimetype": "text/x-python",
   "name": "python",
   "nbconvert_exporter": "python",
   "pygments_lexer": "ipython3",
   "version": "3.10.9"
  }
 },
 "nbformat": 4,
 "nbformat_minor": 2
}
