{
 "cells": [
  {
   "cell_type": "code",
   "execution_count": 2,
   "id": "ab91b432",
   "metadata": {},
   "outputs": [
    {
     "name": "stdout",
     "output_type": "stream",
     "text": [
      "Collecting mesa\n",
      "  Downloading Mesa-1.1.0-py3-none-any.whl (1.8 MB)\n",
      "\u001b[K     |████████████████████████████████| 1.8 MB 15.4 MB/s eta 0:00:01\n",
      "\u001b[?25hRequirement already satisfied: numpy in /Users/josephobrien/opt/anaconda3/envs/Poverty_Replication/lib/python3.7/site-packages (from mesa) (1.21.5)\n",
      "Requirement already satisfied: tornado in /Users/josephobrien/.local/lib/python3.7/site-packages (from mesa) (6.2)\n",
      "Requirement already satisfied: pandas in /Users/josephobrien/opt/anaconda3/envs/Poverty_Replication/lib/python3.7/site-packages (from mesa) (1.3.5)\n",
      "Requirement already satisfied: tqdm in /Users/josephobrien/opt/anaconda3/envs/Poverty_Replication/lib/python3.7/site-packages (from mesa) (4.64.0)\n",
      "Collecting cookiecutter\n",
      "  Downloading cookiecutter-2.6.0-py3-none-any.whl (39 kB)\n",
      "Collecting click\n",
      "  Downloading click-8.1.8-py3-none-any.whl (98 kB)\n",
      "\u001b[K     |████████████████████████████████| 98 kB 15.8 MB/s eta 0:00:01\n",
      "\u001b[?25hRequirement already satisfied: networkx in /Users/josephobrien/opt/anaconda3/envs/Poverty_Replication/lib/python3.7/site-packages (from mesa) (2.6.3)\n",
      "Requirement already satisfied: importlib-metadata in /Users/josephobrien/opt/anaconda3/envs/Poverty_Replication/lib/python3.7/site-packages (from click->mesa) (4.11.4)\n",
      "Collecting python-slugify>=4.0.0\n",
      "  Downloading python_slugify-8.0.4-py2.py3-none-any.whl (10 kB)\n",
      "Collecting rich\n",
      "  Downloading rich-13.8.1-py3-none-any.whl (241 kB)\n",
      "\u001b[K     |████████████████████████████████| 241 kB 27.3 MB/s eta 0:00:01\n",
      "\u001b[?25hCollecting pyyaml>=5.3.1\n",
      "  Downloading PyYAML-6.0.1-cp37-cp37m-macosx_10_9_x86_64.whl (189 kB)\n",
      "\u001b[K     |████████████████████████████████| 189 kB 25.5 MB/s eta 0:00:01\n",
      "\u001b[?25hRequirement already satisfied: requests>=2.23.0 in /Users/josephobrien/opt/anaconda3/envs/Poverty_Replication/lib/python3.7/site-packages (from cookiecutter->mesa) (2.28.1)\n",
      "Requirement already satisfied: Jinja2<4.0.0,>=2.7 in /Users/josephobrien/opt/anaconda3/envs/Poverty_Replication/lib/python3.7/site-packages (from cookiecutter->mesa) (3.1.2)\n",
      "Collecting arrow\n",
      "  Downloading arrow-1.2.3-py3-none-any.whl (66 kB)\n",
      "\u001b[K     |████████████████████████████████| 66 kB 17.0 MB/s eta 0:00:01\n",
      "\u001b[?25hCollecting binaryornot>=0.4.4\n",
      "  Downloading binaryornot-0.4.4-py2.py3-none-any.whl (9.0 kB)\n",
      "Requirement already satisfied: chardet>=3.0.2 in /Users/josephobrien/opt/anaconda3/envs/Poverty_Replication/lib/python3.7/site-packages (from binaryornot>=0.4.4->cookiecutter->mesa) (5.0.0)\n",
      "Requirement already satisfied: MarkupSafe>=2.0 in /Users/josephobrien/opt/anaconda3/envs/Poverty_Replication/lib/python3.7/site-packages (from Jinja2<4.0.0,>=2.7->cookiecutter->mesa) (2.1.1)\n",
      "Collecting text-unidecode>=1.3\n",
      "  Downloading text_unidecode-1.3-py2.py3-none-any.whl (78 kB)\n",
      "\u001b[K     |████████████████████████████████| 78 kB 17.9 MB/s eta 0:00:01\n",
      "\u001b[?25hRequirement already satisfied: charset-normalizer<3,>=2 in /Users/josephobrien/opt/anaconda3/envs/Poverty_Replication/lib/python3.7/site-packages (from requests>=2.23.0->cookiecutter->mesa) (2.1.0)\n",
      "Requirement already satisfied: certifi>=2017.4.17 in /Users/josephobrien/opt/anaconda3/envs/Poverty_Replication/lib/python3.7/site-packages (from requests>=2.23.0->cookiecutter->mesa) (2022.6.15)\n",
      "Requirement already satisfied: urllib3<1.27,>=1.21.1 in /Users/josephobrien/opt/anaconda3/envs/Poverty_Replication/lib/python3.7/site-packages (from requests>=2.23.0->cookiecutter->mesa) (1.26.10)\n",
      "Requirement already satisfied: idna<4,>=2.5 in /Users/josephobrien/opt/anaconda3/envs/Poverty_Replication/lib/python3.7/site-packages (from requests>=2.23.0->cookiecutter->mesa) (3.3)\n",
      "Requirement already satisfied: python-dateutil>=2.7.0 in /Users/josephobrien/opt/anaconda3/envs/Poverty_Replication/lib/python3.7/site-packages (from arrow->cookiecutter->mesa) (2.8.2)\n",
      "Requirement already satisfied: typing-extensions in /Users/josephobrien/opt/anaconda3/envs/Poverty_Replication/lib/python3.7/site-packages (from arrow->cookiecutter->mesa) (4.3.0)\n",
      "Requirement already satisfied: six>=1.5 in /Users/josephobrien/opt/anaconda3/envs/Poverty_Replication/lib/python3.7/site-packages (from python-dateutil>=2.7.0->arrow->cookiecutter->mesa) (1.16.0)\n",
      "Requirement already satisfied: zipp>=0.5 in /Users/josephobrien/opt/anaconda3/envs/Poverty_Replication/lib/python3.7/site-packages (from importlib-metadata->click->mesa) (3.8.0)\n",
      "Requirement already satisfied: pytz>=2017.3 in /Users/josephobrien/opt/anaconda3/envs/Poverty_Replication/lib/python3.7/site-packages (from pandas->mesa) (2022.1)\n",
      "Collecting pygments<3.0.0,>=2.13.0\n",
      "  Downloading pygments-2.17.2-py3-none-any.whl (1.2 MB)\n",
      "\u001b[K     |████████████████████████████████| 1.2 MB 23.2 MB/s eta 0:00:01\n",
      "\u001b[?25hCollecting markdown-it-py>=2.2.0\n",
      "  Downloading markdown_it_py-2.2.0-py3-none-any.whl (84 kB)\n",
      "\u001b[K     |████████████████████████████████| 84 kB 13.1 MB/s eta 0:00:01\n",
      "\u001b[?25hCollecting mdurl~=0.1\n",
      "  Downloading mdurl-0.1.2-py3-none-any.whl (10.0 kB)\n",
      "Installing collected packages: mdurl, text-unidecode, pygments, markdown-it-py, rich, pyyaml, python-slugify, click, binaryornot, arrow, cookiecutter, mesa\n",
      "  Attempting uninstall: pygments\n",
      "    Found existing installation: Pygments 2.12.0\n",
      "    Uninstalling Pygments-2.12.0:\n",
      "      Successfully uninstalled Pygments-2.12.0\n",
      "Successfully installed arrow-1.2.3 binaryornot-0.4.4 click-8.1.8 cookiecutter-2.6.0 markdown-it-py-2.2.0 mdurl-0.1.2 mesa-1.1.0 pygments-2.17.2 python-slugify-8.0.4 pyyaml-6.0.1 rich-13.8.1 text-unidecode-1.3\n",
      "Note: you may need to restart the kernel to use updated packages.\n"
     ]
    }
   ],
   "source": [
    "#pip install mesa"
   ]
  },
  {
   "cell_type": "code",
   "execution_count": 26,
   "id": "721f0ce8",
   "metadata": {},
   "outputs": [],
   "source": [
    "\n",
    "from mesa import Agent, Model\n",
    "from mesa.time import SimultaneousActivation\n",
    "from mesa.datacollection import DataCollector\n",
    "import random\n",
    "import numpy as np\n",
    "import pandas as pd\n",
    "import networkx as nx\n",
    "import scipy.stats"
   ]
  },
  {
   "cell_type": "markdown",
   "id": "75997e4b",
   "metadata": {},
   "source": [
    "## The Agents"
   ]
  },
  {
   "cell_type": "code",
   "execution_count": 27,
   "id": "a5e980a1",
   "metadata": {},
   "outputs": [],
   "source": [
    "class TRScientist(Agent):\n",
    "    def __init__(self, unique_id, model):\n",
    "        super().__init__(unique_id, model)\n",
    "        self.record = [] # Track record\n",
    "        self.m = round(random.uniform(0.05, 0.5), 2) # Open-mindedness\n",
    "        self.model = model\n",
    "        self.unique_id = unique_id\n",
    "        self.hyp = np.round(np.arange(0, 1.001, 1/5), 2)\n",
    "        self.cred = np.round(np.full(len(self.hyp), 1/len(self.hyp)), 2) # Credence for each hyp\n",
    "        self.noise = random.uniform(0.001, 0.2) # equivalent to sigma in paper\n",
    "        self.c = round(random.random(), 2) # weight for evidence vs testimony\n",
    "        self.neighbors = [] # trusted informants\n",
    "        self.social = None \n",
    "        self.evidential = None\n",
    "        self.pr = 0\n",
    "        self.ev = 0\n",
    "        self.id = 0\n",
    "        self.hub = 0\n",
    "        self.authority = 0\n",
    "        self.Brier = [] # Prediction at previous time step against new toss\n",
    "        self.BrierT = None # Cred against truth (God's eye view)\n",
    "        self.crps = None\n",
    "    def __hash__(self):\n",
    "        return hash((self.model, self.unique_id))\n",
    "    def __eq__(self, other):\n",
    "        return (self.model, self.unique_id) == (other.model, other.unique_id)\n",
    "    def r_avg(self):\n",
    "        if len(self.record) > 0:\n",
    "            # Mean Brier so far for toss predictions\n",
    "            return round(sum(self.record)/len(self.record), 4)\n",
    "        else:\n",
    "            return 1\n",
    "    def update_social(self):\n",
    "        self.social = np.round(sum([a.cred for a in self.neighbors])/len(self.neighbors), 4)\n",
    "    def update_evidence(self):\n",
    "        toss = np.random.binomial(1, self.model.truth)\n",
    "        self.Brier.append(round((toss - sum(self.cred*self.hyp))**2, 4)) # Cred at previous time step against new toss\n",
    "        Pr_E_H = np.absolute((1-toss)-self.hyp)\n",
    "        posterior = Pr_E_H*self.cred/np.sum(self.cred*Pr_E_H)\n",
    "        loc = posterior\n",
    "        scale = self.noise\n",
    "        # No neg credence\n",
    "        noisy = scipy.stats.truncnorm.rvs((0.0001-loc)/scale, (9.9999-loc)/scale, loc=loc, scale=scale)\n",
    "        # Normalize\n",
    "        self.evidential = noisy/sum(noisy)\n",
    "    def update_neighbors(self):\n",
    "        n = round(len(self.model.schedule.agents)*self.m)\n",
    "        if n < 1:\n",
    "            # Agent trust no one\n",
    "            self.neighbors = [self]\n",
    "        elif len(self.record) == 0:\n",
    "            # No track records yet\n",
    "            self.neighbors = random.sample(self.model.schedule.agents, n)\n",
    "        else:\n",
    "            # Choose best performing agents so far\n",
    "            temp = []\n",
    "            ls = self.model.schedule.agents\n",
    "            random.shuffle(ls)\n",
    "            temp = sorted(ls, key=lambda x: x.r_avg())[:n]\n",
    "            if len(temp) < 1:\n",
    "                temp.append(self)\n",
    "            self.neighbors = temp\n",
    "    def step(self):\n",
    "        self.update_evidence()\n",
    "        self.update_neighbors()\n",
    "        self.update_social()\n",
    "    def advance(self):\n",
    "        # linear combination of social and evidential components\n",
    "        new_cred = np.round((1-self.c)*self.social + self.c*self.evidential, 2) \n",
    "        self.cred = new_cred\n",
    "        # calculate inaccuracy\n",
    "        t = np.zeros((len(self.hyp),)) \n",
    "        t[int(self.model.truth*5)] = 1 # array of truth value for each hypothesis\n",
    "        self.BrierT = round(sum((self.cred-t)**2), 4)\n",
    "        self.crps = crps(self.cred, self.model.truth)"
   ]
  },
  {
   "cell_type": "code",
   "execution_count": 28,
   "id": "93c42896-5494-4ac0-84c3-66b3e4f9429e",
   "metadata": {},
   "outputs": [],
   "source": [
    "class RandomScientist(TRScientist):\n",
    "    def __init__(self, unique_id, model):\n",
    "        super().__init__(unique_id, model)\n",
    "    def update_neighbors(self):\n",
    "        n = round(len(self.model.schedule.agents)*self.m)\n",
    "        if n < 1:\n",
    "            self.neighbors = [self]\n",
    "        else:\n",
    "            self.neighbors = random.sample(self.model.schedule.agents, n)"
   ]
  },
  {
   "cell_type": "code",
   "execution_count": 29,
   "id": "c53d5578",
   "metadata": {},
   "outputs": [],
   "source": [
    "class PatientScientist(TRScientist):\n",
    "    def __init__(self, unique_id, model):\n",
    "        super().__init__(unique_id, model)\n",
    "        self.c = 1"
   ]
  },
  {
   "cell_type": "code",
   "execution_count": 30,
   "id": "1c000203",
   "metadata": {},
   "outputs": [],
   "source": [
    "def Euclidean(x, y):\n",
    "    return sum((x-y)**2)"
   ]
  },
  {
   "cell_type": "code",
   "execution_count": 31,
   "id": "09b15052",
   "metadata": {},
   "outputs": [],
   "source": [
    "def crps(cred, truth):\n",
    "    penalty = 0\n",
    "    for i in range(len(cred)):\n",
    "        if i<(truth*5):\n",
    "            penalty += (sum(cred[:i+1])-0)**2\n",
    "        else:\n",
    "            penalty += (sum(cred[:i+1])-1)**2\n",
    "    return(round(penalty, 4))"
   ]
  },
  {
   "cell_type": "markdown",
   "id": "b17ac475",
   "metadata": {},
   "source": [
    "## The Model"
   ]
  },
  {
   "cell_type": "code",
   "execution_count": 19,
   "id": "f866a3df",
   "metadata": {},
   "outputs": [],
   "source": [
    "class TRModel(Model):\n",
    "    def __init__(self, truth, feedback_rate):\n",
    "        self.truth = truth\n",
    "        self.schedule = SimultaneousActivation(self)\n",
    "        self.fbr = feedback_rate # How often are track records public? Always 1 in current model.\n",
    "        self.schedule = SimultaneousActivation(self)\n",
    "        for i in range(30):\n",
    "            self.schedule.add(TRScientist(i, self))\n",
    "        self.datacollector = DataCollector(\n",
    "            agent_reporters={\"pr\": \"pr\", \"ev\": \"ev\",\n",
    "                             \"id\": \"id\", \"hub\": \"hub\", \"authority\": \"authority\",\n",
    "                             \"Brier\": \"Brier\", \"BrierT\": \"BrierT\", \"crps\": \"crps\",\n",
    "                             \"neighbors\": get_neighbors, \n",
    "                             \"c\": \"c\", \"m\": \"m\", \"noise\": \"noise\",\n",
    "                             \"cred\": \"cred\", \"social\": \"social\", \"evidential\": \"evidential\"},\n",
    "            model_reporters={\"truth\": \"truth\"})\n",
    "    def centrality(self):\n",
    "        G = nx.DiGraph()\n",
    "        for a in self.schedule.agents:\n",
    "            G.add_node(a)\n",
    "            for n in a.neighbors:\n",
    "                if a != n:\n",
    "                    G.add_edge(a, n)\n",
    "        idc = nx.in_degree_centrality(G)\n",
    "        evc = nx.eigenvector_centrality_numpy(G)\n",
    "        pr = nx.pagerank(G)\n",
    "        hub, authority = nx.hits(G)\n",
    "        for a in self.schedule.agents:\n",
    "            a.pr = round(pr[a], 4)\n",
    "            a.ev = round(evc[a], 4)\n",
    "            a.id = round(idc[a], 4)\n",
    "            a.hub = round(hub[a], 4)\n",
    "            a.authority = round(authority[a], 4)\n",
    "    def step(self):\n",
    "        self.schedule.step()\n",
    "        if np.random.binomial(1, self.fbr):\n",
    "            for a in self.schedule.agents:\n",
    "                a.record.append(a.Brier[-1])\n",
    "        self.centrality()\n",
    "        self.datacollector.collect(self)"
   ]
  },
  {
   "cell_type": "code",
   "execution_count": 32,
   "id": "12b4f9e0-197c-42c2-a4f3-46946875fc99",
   "metadata": {},
   "outputs": [],
   "source": [
    "class RandomModel(TRModel):\n",
    "    def __init__(self, truth, feedback_rate):\n",
    "        super().__init__(truth, feedback_rate)\n",
    "        self.schedule = SimultaneousActivation(self)\n",
    "        for i in range(15):\n",
    "            self.schedule.add(TRScientist(i, self))\n",
    "        for i in range(15, 30):\n",
    "            self.schedule.add(RandomScientist(i, self))\n",
    "        self.datacollector = DataCollector(\n",
    "            agent_reporters={\"pr\": \"pr\", \"ev\": \"ev\", \n",
    "                             \"id\": \"id\", \"hub\": \"hub\", \"authority\": \"authority\",\n",
    "                             \"Brier\": \"Brier\", \"BrierT\": \"BrierT\", \"crps\": \"crps\",\n",
    "                             \"neighbors\": get_neighbors, \n",
    "                             \"c\": \"c\", \"m\": \"m\", \"noise\": \"noise\",\n",
    "                             \"cred\": \"cred\", \"social\": \"social\", \"evidential\": \"evidential\"},\n",
    "            model_reporters={\"truth\": \"truth\"})"
   ]
  },
  {
   "cell_type": "code",
   "execution_count": 33,
   "id": "79c33f0a",
   "metadata": {},
   "outputs": [],
   "source": [
    "class PatientModel(TRModel):\n",
    "    def __init__(self, truth, feedback_rate):\n",
    "        super().__init__(truth, feedback_rate)\n",
    "        self.schedule = SimultaneousActivation(self)\n",
    "        for i in range(30):\n",
    "            self.schedule.add(PatientScientist(i, self))\n",
    "        self.datacollector = DataCollector(\n",
    "            agent_reporters={\"pr\": \"pr\", \"ev\": \"ev\", \n",
    "                             \"id\": \"id\", \"hub\": \"hub\", \"authority\": \"authority\",\n",
    "                             \"Brier\": \"Brier\", \"BrierT\": \"BrierT\", \"crps\": \"crps\",\n",
    "                             \"neighbors\": get_neighbors, \n",
    "                             \"c\": \"c\", \"m\": \"m\", \"noise\": \"noise\",\n",
    "                             \"cred\": \"cred\", \"social\": \"social\", \"evidential\": \"evidential\"},\n",
    "            model_reporters={\"truth\": \"truth\"})\n",
    "    def activate(self):\n",
    "        for a in self.schedule.agents:\n",
    "            a.c = round(random.random(), 2)"
   ]
  },
  {
   "cell_type": "code",
   "execution_count": 34,
   "id": "7ec60cc7",
   "metadata": {},
   "outputs": [],
   "source": [
    "def get_neighbors(agent):\n",
    "    return [a.unique_id for a in agent.neighbors]"
   ]
  },
  {
   "cell_type": "markdown",
   "id": "2ab389ea",
   "metadata": {},
   "source": [
    "## Run Simulation"
   ]
  },
  {
   "cell_type": "markdown",
   "id": "2c186d1d-72fc-43e5-865a-e132c8b9c045",
   "metadata": {},
   "source": [
    "#### Baseline, original, less-monopoly"
   ]
  },
  {
   "cell_type": "code",
   "execution_count": 35,
   "id": "2aaf4c0f",
   "metadata": {},
   "outputs": [],
   "source": [
    "main = pd.DataFrame()\n",
    "\n",
    "for run in range(1):\n",
    "    t = random.choice(np.round(np.arange(0, 1.001, 1/5), 2))\n",
    "    f = 1\n",
    "    m = RandomModel(t, f)\n",
    "    for i in range(100):\n",
    "        m.step()\n",
    "    df = m.datacollector.get_agent_vars_dataframe()\n",
    "    df['truth'] = t\n",
    "    df['f_rate'] = f\n",
    "    df['run'] = run\n",
    "    main = pd.concat([main, df])"
   ]
  },
  {
   "cell_type": "markdown",
   "id": "8d9d1478-388a-42df-8b1d-2e73d3e24ea0",
   "metadata": {},
   "source": [
    "#### More-patience"
   ]
  },
  {
   "cell_type": "code",
   "execution_count": 36,
   "id": "cecbdb27",
   "metadata": {},
   "outputs": [],
   "source": [
    "main = pd.DataFrame()\n",
    "\n",
    "for run in range(1):\n",
    "    t = random.choice(np.round(np.arange(0, 1.001, 1/5), 2))\n",
    "    f = 1\n",
    "    m = PatientModel(t, f)\n",
    "    for i in range(50):\n",
    "        m.step()\n",
    "    # Begin assessing peers after 50 time steps\n",
    "    m.activate()\n",
    "    for i in range(50):\n",
    "        m.step()\n",
    "    df = m.datacollector.get_agent_vars_dataframe()\n",
    "    df['truth'] = t\n",
    "    df['f_rate'] = f\n",
    "    df['run'] = run\n",
    "    main = pd.concat([main, df])"
   ]
  },
  {
   "cell_type": "code",
   "execution_count": 37,
   "id": "0ff7a066",
   "metadata": {},
   "outputs": [],
   "source": [
    "main.dropna(inplace=True)\n",
    "main.to_csv('test.csv')"
   ]
  }
 ],
 "metadata": {
  "kernelspec": {
   "display_name": "Poverty_Replication",
   "language": "python",
   "name": "python3"
  },
  "language_info": {
   "codemirror_mode": {
    "name": "ipython",
    "version": 3
   },
   "file_extension": ".py",
   "mimetype": "text/x-python",
   "name": "python",
   "nbconvert_exporter": "python",
   "pygments_lexer": "ipython3",
   "version": "3.7.13"
  }
 },
 "nbformat": 4,
 "nbformat_minor": 5
}
