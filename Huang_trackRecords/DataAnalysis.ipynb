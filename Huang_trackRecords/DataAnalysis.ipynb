{
 "cells": [
  {
   "cell_type": "code",
   "execution_count": 2,
   "id": "79d1e685",
   "metadata": {},
   "outputs": [
    {
     "name": "stdout",
     "output_type": "stream",
     "text": [
      "Collecting statsmodels\n",
      "  Downloading statsmodels-0.13.5-cp37-cp37m-macosx_10_9_x86_64.whl (9.6 MB)\n",
      "\u001b[K     |████████████████████████████████| 9.6 MB 7.3 MB/s eta 0:00:01\n",
      "\u001b[?25hRequirement already satisfied: scipy>=1.3 in /Users/josephobrien/opt/anaconda3/envs/Poverty_Replication/lib/python3.7/site-packages (from statsmodels) (1.7.3)\n",
      "Requirement already satisfied: pandas>=0.25 in /Users/josephobrien/opt/anaconda3/envs/Poverty_Replication/lib/python3.7/site-packages (from statsmodels) (1.3.5)\n",
      "Requirement already satisfied: packaging>=21.3 in /Users/josephobrien/opt/anaconda3/envs/Poverty_Replication/lib/python3.7/site-packages (from statsmodels) (21.3)\n",
      "Collecting patsy>=0.5.2\n",
      "  Downloading patsy-1.0.1-py2.py3-none-any.whl (232 kB)\n",
      "\u001b[K     |████████████████████████████████| 232 kB 51.8 MB/s eta 0:00:01\n",
      "\u001b[?25hRequirement already satisfied: numpy>=1.17 in /Users/josephobrien/opt/anaconda3/envs/Poverty_Replication/lib/python3.7/site-packages (from statsmodels) (1.21.5)\n",
      "Requirement already satisfied: pyparsing!=3.0.5,>=2.0.2 in /Users/josephobrien/opt/anaconda3/envs/Poverty_Replication/lib/python3.7/site-packages (from packaging>=21.3->statsmodels) (3.0.9)\n",
      "Requirement already satisfied: pytz>=2017.3 in /Users/josephobrien/opt/anaconda3/envs/Poverty_Replication/lib/python3.7/site-packages (from pandas>=0.25->statsmodels) (2022.1)\n",
      "Requirement already satisfied: python-dateutil>=2.7.3 in /Users/josephobrien/opt/anaconda3/envs/Poverty_Replication/lib/python3.7/site-packages (from pandas>=0.25->statsmodels) (2.8.2)\n",
      "Requirement already satisfied: six>=1.5 in /Users/josephobrien/opt/anaconda3/envs/Poverty_Replication/lib/python3.7/site-packages (from python-dateutil>=2.7.3->pandas>=0.25->statsmodels) (1.16.0)\n",
      "Installing collected packages: patsy, statsmodels\n",
      "Successfully installed patsy-1.0.1 statsmodels-0.13.5\n",
      "Note: you may need to restart the kernel to use updated packages.\n"
     ]
    }
   ],
   "source": [
    "pip install statsmodels"
   ]
  },
  {
   "cell_type": "code",
   "execution_count": 4,
   "id": "5712ff28",
   "metadata": {},
   "outputs": [
    {
     "name": "stdout",
     "output_type": "stream",
     "text": [
      "Collecting seaborn\n",
      "  Downloading seaborn-0.12.2-py3-none-any.whl (293 kB)\n",
      "\u001b[K     |████████████████████████████████| 293 kB 6.2 MB/s eta 0:00:01\n",
      "\u001b[?25hRequirement already satisfied: matplotlib!=3.6.1,>=3.1 in /Users/josephobrien/opt/anaconda3/envs/Poverty_Replication/lib/python3.7/site-packages (from seaborn) (3.5.2)\n",
      "Requirement already satisfied: pandas>=0.25 in /Users/josephobrien/opt/anaconda3/envs/Poverty_Replication/lib/python3.7/site-packages (from seaborn) (1.3.5)\n",
      "Requirement already satisfied: typing_extensions in /Users/josephobrien/opt/anaconda3/envs/Poverty_Replication/lib/python3.7/site-packages (from seaborn) (4.3.0)\n",
      "Requirement already satisfied: numpy!=1.24.0,>=1.17 in /Users/josephobrien/opt/anaconda3/envs/Poverty_Replication/lib/python3.7/site-packages (from seaborn) (1.21.5)\n",
      "Requirement already satisfied: fonttools>=4.22.0 in /Users/josephobrien/opt/anaconda3/envs/Poverty_Replication/lib/python3.7/site-packages (from matplotlib!=3.6.1,>=3.1->seaborn) (4.34.4)\n",
      "Requirement already satisfied: kiwisolver>=1.0.1 in /Users/josephobrien/opt/anaconda3/envs/Poverty_Replication/lib/python3.7/site-packages (from matplotlib!=3.6.1,>=3.1->seaborn) (1.4.3)\n",
      "Requirement already satisfied: pillow>=6.2.0 in /Users/josephobrien/opt/anaconda3/envs/Poverty_Replication/lib/python3.7/site-packages (from matplotlib!=3.6.1,>=3.1->seaborn) (6.2.1)\n",
      "Requirement already satisfied: cycler>=0.10 in /Users/josephobrien/opt/anaconda3/envs/Poverty_Replication/lib/python3.7/site-packages (from matplotlib!=3.6.1,>=3.1->seaborn) (0.11.0)\n",
      "Requirement already satisfied: pyparsing>=2.2.1 in /Users/josephobrien/opt/anaconda3/envs/Poverty_Replication/lib/python3.7/site-packages (from matplotlib!=3.6.1,>=3.1->seaborn) (3.0.9)\n",
      "Requirement already satisfied: packaging>=20.0 in /Users/josephobrien/opt/anaconda3/envs/Poverty_Replication/lib/python3.7/site-packages (from matplotlib!=3.6.1,>=3.1->seaborn) (21.3)\n",
      "Requirement already satisfied: python-dateutil>=2.7 in /Users/josephobrien/opt/anaconda3/envs/Poverty_Replication/lib/python3.7/site-packages (from matplotlib!=3.6.1,>=3.1->seaborn) (2.8.2)\n",
      "Requirement already satisfied: pytz>=2017.3 in /Users/josephobrien/opt/anaconda3/envs/Poverty_Replication/lib/python3.7/site-packages (from pandas>=0.25->seaborn) (2022.1)\n",
      "Requirement already satisfied: six>=1.5 in /Users/josephobrien/opt/anaconda3/envs/Poverty_Replication/lib/python3.7/site-packages (from python-dateutil>=2.7->matplotlib!=3.6.1,>=3.1->seaborn) (1.16.0)\n",
      "Installing collected packages: seaborn\n",
      "Successfully installed seaborn-0.12.2\n",
      "Note: you may need to restart the kernel to use updated packages.\n"
     ]
    }
   ],
   "source": [
    "pip install seaborn"
   ]
  },
  {
   "cell_type": "code",
   "execution_count": 5,
   "id": "f701fc77",
   "metadata": {},
   "outputs": [],
   "source": [
    "import numpy as np\n",
    "import pandas as pd\n",
    "import networkx as nx\n",
    "from statsmodels.formula.api import ols\n",
    "import statsmodels.graphics as smgraphics\n",
    "import statsmodels.api as sm\n",
    "import matplotlib.pyplot as plt\n",
    "from matplotlib import animation\n",
    "import seaborn as sns\n",
    "import random\n",
    "from scipy import stats\n",
    "import pickle"
   ]
  },
  {
   "cell_type": "markdown",
   "id": "bc7e937d",
   "metadata": {},
   "source": [
    "## Plotting functions"
   ]
  },
  {
   "cell_type": "code",
   "execution_count": 6,
   "id": "386eeff8",
   "metadata": {},
   "outputs": [],
   "source": [
    "def strtolist(val):\n",
    "    \"\"\"Convert string to list of floats\"\"\"\n",
    "    ls = val.strip('[]').split()\n",
    "    new = []\n",
    "    for v in ls:\n",
    "        new.append(float(v))\n",
    "    return(np.array(new))\n",
    "\n",
    "def strtolistc(val):\n",
    "    \"\"\"Convert string to list of floats\"\"\"\n",
    "    ls = val.strip('[]').split(',')\n",
    "    new = []\n",
    "    for v in ls:\n",
    "        new.append(float(v))\n",
    "    return(np.array(new))\n",
    "def mean(ls):\n",
    "    return ls.mean()"
   ]
  },
  {
   "cell_type": "code",
   "execution_count": 7,
   "id": "12a596bf",
   "metadata": {},
   "outputs": [],
   "source": [
    "c_ls = ['authority']\n",
    "acc_ls = ['BrierT']"
   ]
  },
  {
   "cell_type": "markdown",
   "id": "7611673f-9cef-4e9f-b1c3-aa022f44b0cf",
   "metadata": {},
   "source": [
    "#### Calculate frequency of significant (p<0.05) correlation between centrality and accuracy"
   ]
  },
  {
   "cell_type": "code",
   "execution_count": 8,
   "id": "fe9bc06a",
   "metadata": {},
   "outputs": [],
   "source": [
    "grain = 5\n",
    "\n",
    "def how_often(df, acc):\n",
    "    \"\"\"calculate the % of runs where centrality predicts accuracy @t.\"\"\"\n",
    "    by_steps = {key: [] for key in c_ls}\n",
    "    for step in range(int(df.iloc[-1]['Step']/grain)):\n",
    "        temp = {key: [] for key in c_ls}\n",
    "        for run in df.run.unique():\n",
    "            r = df[(df['Step']>=step*grain) & (df['Step']<(step+1)*grain) & (df['run']==run)]\n",
    "            for c in c_ls:\n",
    "                try:\n",
    "                    slope, intercept, r_value, p_value, std_err = stats.linregress(r[c], r[acc])\n",
    "                    if p_value < 0.05:\n",
    "                        temp[c].append(slope)\n",
    "                    else:\n",
    "                        temp[c].append(0)\n",
    "                except Exception:\n",
    "                    temp[c].append(0)\n",
    "        for c in c_ls:\n",
    "            by_steps[c].append(len([num for num in temp[c] if num < 0])/len(temp[c]))\n",
    "    return by_steps"
   ]
  },
  {
   "cell_type": "markdown",
   "id": "bde1de31-06cf-4205-ac82-8cacb23ad96d",
   "metadata": {},
   "source": [
    "#### Calculate R-value between centrality and accuracy"
   ]
  },
  {
   "cell_type": "code",
   "execution_count": 9,
   "id": "22e94f0c-4170-4ee5-856f-ec4f7196012a",
   "metadata": {},
   "outputs": [],
   "source": [
    "grain = 1\n",
    "\n",
    "def how_strong(df, acc):\n",
    "    \"\"\"calculate the average R-values for accuracy ~ centrality @t.\"\"\"\n",
    "    by_steps = {key: [] for key in c_ls}\n",
    "    for step in range(int(df.iloc[-1]['Step']/grain)):\n",
    "        temp = {key: [] for key in c_ls}\n",
    "        for run in df.run.unique():\n",
    "            centrality = df[(df['Step']>=step*grain) & (df['Step']<(step+1)*grain) & (df['run']==run)]['authority']\n",
    "            acc = df[(df['Step']>=step*grain-1) & (df['Step']<(step+1)*grain-1) & (df['run']==run)]['BrierT']\n",
    "            try:\n",
    "                slope, intercept, r_value, p_value, std_err = stats.linregress(centrality, acc)\n",
    "                temp['authority'].append(r_value)\n",
    "            except Exception:\n",
    "                temp['authority'].append(0)\n",
    "        by_steps['authority'].append(sum(temp['authority'])/len(temp['authority']))\n",
    "    return by_steps"
   ]
  },
  {
   "cell_type": "markdown",
   "id": "b7a66a7c-7f8d-4c0d-97ff-cbb5ed4d35f2",
   "metadata": {},
   "source": [
    "#### Plot meta-expertise comparison"
   ]
  },
  {
   "cell_type": "code",
   "execution_count": 10,
   "id": "44b8f7ee-3853-4443-940b-951960ec6553",
   "metadata": {},
   "outputs": [],
   "source": [
    "linestyles = ['solid', 'dashed', 'dotted', 'dashdot']"
   ]
  },
  {
   "cell_type": "code",
   "execution_count": 11,
   "id": "92057cbf",
   "metadata": {},
   "outputs": [],
   "source": [
    "def compare(data, labels, c, legend_pos=(0.89, 0.875), legend=True):\n",
    "    \"\"\"Meta-expertise comparison with the basic model\"\"\"\n",
    "    \"\"\"data: r-value\"\"\"\n",
    "\n",
    "    fig, ax = plt.subplots()\n",
    "    fig.set_size_inches(5, 4)\n",
    "\n",
    "    # X = list(range(5, 101, 5))\n",
    "    X = list(range(1, 101))\n",
    "    for i in range(len(data)):\n",
    "        ax.plot(X, data[i][c], label=labels[i], alpha=0.7, ls=linestyles[i])\n",
    "        ax.set_ylabel('R-Value')\n",
    "        ax.set_xlabel('Time Step')\n",
    "\n",
    "    X_labels = list(range(0, 101, 20))\n",
    "\n",
    "    ax.set_xticks(X_labels)\n",
    "    ax.set_xticklabels([str(x) for x in X_labels], fontdict=None, minor=False)\n",
    "\n",
    "    if legend:\n",
    "        handles, labels = ax.get_legend_handles_labels()\n",
    "        fig.legend(handles, labels, bbox_to_anchor=legend_pos, fontsize='small')"
   ]
  },
  {
   "cell_type": "markdown",
   "id": "727cbd64-41e6-4390-9883-da510e004b88",
   "metadata": {},
   "source": [
    "#### Plot Brier score comparison"
   ]
  },
  {
   "cell_type": "code",
   "execution_count": 12,
   "id": "30b7c17e",
   "metadata": {},
   "outputs": [],
   "source": [
    "def compare_avg(data, labels, param, ylim=[0, 1], legend_pos=(1.2, 0.89), legend=True):\n",
    "    \"\"\"Brier comparison with the basic model\"\"\"  \n",
    "    \n",
    "    fig, ax = plt.subplots()\n",
    "    fig.set_size_inches(5, 4)\n",
    "    \n",
    "    for i in range(len(data)):     \n",
    "        temp = []\n",
    "        for j in range(1, data[i]['Step'].max()+1):\n",
    "            d = data[i][data[i]['Step']==j]\n",
    "            temp.append(d[param].mean())\n",
    "        ax.plot(temp, label=labels[i], alpha=0.7, ls=linestyles[i])\n",
    "    if legend:\n",
    "        handles, labels = ax.get_legend_handles_labels()\n",
    "        fig.legend(handles, labels, bbox_to_anchor=legend_pos)\n",
    "    fig.text(0.52, 0.02, 'Time Step', ha='center')\n",
    "    fig.text(0, 0.5, 'Average Brier', va='center', rotation='vertical')"
   ]
  },
  {
   "cell_type": "markdown",
   "id": "78e97a26",
   "metadata": {},
   "source": [
    "### Load and clean data"
   ]
  },
  {
   "cell_type": "code",
   "execution_count": 17,
   "id": "7588a5ee",
   "metadata": {},
   "outputs": [],
   "source": [
    "trackr = pd.read_csv('trackr.csv')\n",
    "\n",
    "baseline = pd.read_csv('baseline.csv')\n",
    "\n",
    "patient = pd.read_csv('patient.csv')\n",
    "\n",
    "om = pd.read_csv('om.csv')"
   ]
  },
  {
   "cell_type": "code",
   "execution_count": 13,
   "id": "73bfe9e0",
   "metadata": {},
   "outputs": [],
   "source": [
    "test = pd.read_csv('test.csv')"
   ]
  },
  {
   "cell_type": "code",
   "execution_count": 14,
   "id": "a28bbd10-5e92-4d05-8aa5-7531985b25e1",
   "metadata": {},
   "outputs": [
    {
     "ename": "NameError",
     "evalue": "name 'baseline' is not defined",
     "output_type": "error",
     "traceback": [
      "\u001b[0;31m---------------------------------------------------------------------------\u001b[0m",
      "\u001b[0;31mNameError\u001b[0m                                 Traceback (most recent call last)",
      "\u001b[0;32m/var/folders/7c/vf7zbym961sddcrp9dkn5fy00000gn/T/ipykernel_3307/2897725758.py\u001b[0m in \u001b[0;36m<module>\u001b[0;34m\u001b[0m\n\u001b[0;32m----> 1\u001b[0;31m \u001b[0mALL\u001b[0m \u001b[0;34m=\u001b[0m \u001b[0;34m[\u001b[0m\u001b[0mbaseline\u001b[0m\u001b[0;34m,\u001b[0m \u001b[0mtrackr\u001b[0m\u001b[0;34m,\u001b[0m \u001b[0mpatient\u001b[0m\u001b[0;34m,\u001b[0m \u001b[0mom\u001b[0m\u001b[0;34m]\u001b[0m\u001b[0;34m\u001b[0m\u001b[0;34m\u001b[0m\u001b[0m\n\u001b[0m\u001b[1;32m      2\u001b[0m \u001b[0mALL_names\u001b[0m \u001b[0;34m=\u001b[0m \u001b[0;34m[\u001b[0m\u001b[0;34m'baseline'\u001b[0m\u001b[0;34m,\u001b[0m \u001b[0;34m'trackr'\u001b[0m\u001b[0;34m,\u001b[0m \u001b[0;34m'patient'\u001b[0m\u001b[0;34m,\u001b[0m \u001b[0;34m'om'\u001b[0m\u001b[0;34m]\u001b[0m\u001b[0;34m\u001b[0m\u001b[0;34m\u001b[0m\u001b[0m\n\u001b[1;32m      3\u001b[0m \u001b[0mALL_labels\u001b[0m \u001b[0;34m=\u001b[0m \u001b[0;34m[\u001b[0m\u001b[0;34m'baseline'\u001b[0m\u001b[0;34m,\u001b[0m \u001b[0;34m'original testimony'\u001b[0m\u001b[0;34m,\u001b[0m \u001b[0;34m'more patience'\u001b[0m\u001b[0;34m,\u001b[0m \u001b[0;34m'less monopoly'\u001b[0m\u001b[0;34m]\u001b[0m\u001b[0;34m\u001b[0m\u001b[0;34m\u001b[0m\u001b[0m\n",
      "\u001b[0;31mNameError\u001b[0m: name 'baseline' is not defined"
     ]
    }
   ],
   "source": [
    "ALL = [baseline, trackr, patient, om]\n",
    "ALL_names = ['baseline', 'trackr', 'patient', 'om']\n",
    "ALL_labels = ['baseline', 'original testimony', 'more patience', 'less monopoly']"
   ]
  },
  {
   "cell_type": "code",
   "execution_count": 19,
   "id": "6314cc0d",
   "metadata": {
    "scrolled": true
   },
   "outputs": [
    {
     "data": {
      "text/plain": [
       "'Calculate and save as pickles.'"
      ]
     },
     "execution_count": 19,
     "metadata": {},
     "output_type": "execute_result"
    }
   ],
   "source": [
    "\"\"\"Calculate and save as pickles.\"\"\"\n",
    "# for i in range(len(ALL)):\n",
    "    # pickle.dump(how_often(ALL[i], 'BrierT'), open(\"pickles/\"+ALL_names[i]+\"_freq.pickle\", \"wb\"))\n",
    "    # pickle.dump(how_strong(ALL[i], 'BrierT'), open(\"pickles/\"+ALL_names[i]+\"_rval.pickle\", \"wb\"))"
   ]
  },
  {
   "cell_type": "markdown",
   "id": "ca87d7b5-7842-4eab-b73c-4482024c3516",
   "metadata": {},
   "source": [
    "### Plot comparisons"
   ]
  },
  {
   "cell_type": "markdown",
   "id": "4ca95a8d-7acc-4529-b95f-d980c4bd6407",
   "metadata": {},
   "source": [
    "#### Brier"
   ]
  },
  {
   "cell_type": "code",
   "execution_count": 15,
   "id": "a1c30103-e41e-495f-ba74-292b9db8990d",
   "metadata": {},
   "outputs": [
    {
     "ename": "NameError",
     "evalue": "name 'ALL' is not defined",
     "output_type": "error",
     "traceback": [
      "\u001b[0;31m---------------------------------------------------------------------------\u001b[0m",
      "\u001b[0;31mNameError\u001b[0m                                 Traceback (most recent call last)",
      "\u001b[0;32m/var/folders/7c/vf7zbym961sddcrp9dkn5fy00000gn/T/ipykernel_3307/495397585.py\u001b[0m in \u001b[0;36m<module>\u001b[0;34m\u001b[0m\n\u001b[0;32m----> 1\u001b[0;31m \u001b[0mcompare_avg\u001b[0m\u001b[0;34m(\u001b[0m\u001b[0mALL\u001b[0m\u001b[0;34m,\u001b[0m \u001b[0mALL_labels\u001b[0m\u001b[0;34m,\u001b[0m \u001b[0;34m'BrierT'\u001b[0m\u001b[0;34m,\u001b[0m \u001b[0mlegend_pos\u001b[0m\u001b[0;34m=\u001b[0m\u001b[0;34m(\u001b[0m\u001b[0;36m0.91\u001b[0m\u001b[0;34m,\u001b[0m \u001b[0;36m0.35\u001b[0m\u001b[0;34m)\u001b[0m\u001b[0;34m)\u001b[0m\u001b[0;34m\u001b[0m\u001b[0;34m\u001b[0m\u001b[0m\n\u001b[0m\u001b[1;32m      2\u001b[0m \u001b[0;31m# plt.savefig('graphs/Brier_all.png', dpi=400, bbox_inches='tight')\u001b[0m\u001b[0;34m\u001b[0m\u001b[0;34m\u001b[0m\u001b[0;34m\u001b[0m\u001b[0m\n",
      "\u001b[0;31mNameError\u001b[0m: name 'ALL' is not defined"
     ]
    }
   ],
   "source": [
    "compare_avg(ALL, ALL_labels, 'BrierT', legend_pos=(0.91, 0.35))\n",
    "# plt.savefig('graphs/Brier_all.png', dpi=400, bbox_inches='tight')"
   ]
  },
  {
   "cell_type": "markdown",
   "id": "79a56654-2434-482b-bba1-42b873031bce",
   "metadata": {},
   "source": [
    "#### Meta-expertise"
   ]
  },
  {
   "cell_type": "code",
   "execution_count": 16,
   "id": "eace76f6-4f13-49ff-9265-e6836ad5391b",
   "metadata": {
    "scrolled": true
   },
   "outputs": [
    {
     "ename": "FileNotFoundError",
     "evalue": "[Errno 2] No such file or directory: 'pickles/baseline_rval1.pickle'",
     "output_type": "error",
     "traceback": [
      "\u001b[0;31m---------------------------------------------------------------------------\u001b[0m",
      "\u001b[0;31mFileNotFoundError\u001b[0m                         Traceback (most recent call last)",
      "\u001b[0;32m/var/folders/7c/vf7zbym961sddcrp9dkn5fy00000gn/T/ipykernel_3307/638848136.py\u001b[0m in \u001b[0;36m<module>\u001b[0;34m\u001b[0m\n\u001b[0;32m----> 1\u001b[0;31m \u001b[0mr1\u001b[0m \u001b[0;34m=\u001b[0m \u001b[0mpickle\u001b[0m\u001b[0;34m.\u001b[0m\u001b[0mload\u001b[0m\u001b[0;34m(\u001b[0m\u001b[0mopen\u001b[0m\u001b[0;34m(\u001b[0m\u001b[0;34m\"pickles/baseline_rval1.pickle\"\u001b[0m\u001b[0;34m,\u001b[0m \u001b[0;34m\"rb\"\u001b[0m\u001b[0;34m)\u001b[0m\u001b[0;34m)\u001b[0m\u001b[0;34m\u001b[0m\u001b[0;34m\u001b[0m\u001b[0m\n\u001b[0m\u001b[1;32m      2\u001b[0m \u001b[0mr2\u001b[0m \u001b[0;34m=\u001b[0m \u001b[0mpickle\u001b[0m\u001b[0;34m.\u001b[0m\u001b[0mload\u001b[0m\u001b[0;34m(\u001b[0m\u001b[0mopen\u001b[0m\u001b[0;34m(\u001b[0m\u001b[0;34m\"pickles/trackr_rval1.pickle\"\u001b[0m\u001b[0;34m,\u001b[0m \u001b[0;34m\"rb\"\u001b[0m\u001b[0;34m)\u001b[0m\u001b[0;34m)\u001b[0m\u001b[0;34m\u001b[0m\u001b[0;34m\u001b[0m\u001b[0m\n\u001b[1;32m      3\u001b[0m \u001b[0mr3\u001b[0m \u001b[0;34m=\u001b[0m \u001b[0mpickle\u001b[0m\u001b[0;34m.\u001b[0m\u001b[0mload\u001b[0m\u001b[0;34m(\u001b[0m\u001b[0mopen\u001b[0m\u001b[0;34m(\u001b[0m\u001b[0;34m\"pickles/patient_rval1.pickle\"\u001b[0m\u001b[0;34m,\u001b[0m \u001b[0;34m\"rb\"\u001b[0m\u001b[0;34m)\u001b[0m\u001b[0;34m)\u001b[0m\u001b[0;34m\u001b[0m\u001b[0;34m\u001b[0m\u001b[0m\n\u001b[1;32m      4\u001b[0m \u001b[0mr4\u001b[0m \u001b[0;34m=\u001b[0m \u001b[0mpickle\u001b[0m\u001b[0;34m.\u001b[0m\u001b[0mload\u001b[0m\u001b[0;34m(\u001b[0m\u001b[0mopen\u001b[0m\u001b[0;34m(\u001b[0m\u001b[0;34m\"pickles/om_rval1.pickle\"\u001b[0m\u001b[0;34m,\u001b[0m \u001b[0;34m\"rb\"\u001b[0m\u001b[0;34m)\u001b[0m\u001b[0;34m)\u001b[0m\u001b[0;34m\u001b[0m\u001b[0;34m\u001b[0m\u001b[0m\n\u001b[1;32m      5\u001b[0m \u001b[0mrval_pickles\u001b[0m \u001b[0;34m=\u001b[0m \u001b[0;34m[\u001b[0m\u001b[0mr1\u001b[0m\u001b[0;34m,\u001b[0m \u001b[0mr2\u001b[0m\u001b[0;34m,\u001b[0m \u001b[0mr3\u001b[0m\u001b[0;34m,\u001b[0m \u001b[0mr4\u001b[0m\u001b[0;34m]\u001b[0m\u001b[0;34m\u001b[0m\u001b[0;34m\u001b[0m\u001b[0m\n",
      "\u001b[0;31mFileNotFoundError\u001b[0m: [Errno 2] No such file or directory: 'pickles/baseline_rval1.pickle'"
     ]
    }
   ],
   "source": [
    "r1 = pickle.load(open(\"pickles/baseline_rval1.pickle\", \"rb\"))\n",
    "r2 = pickle.load(open(\"pickles/trackr_rval1.pickle\", \"rb\"))\n",
    "r3 = pickle.load(open(\"pickles/patient_rval1.pickle\", \"rb\"))\n",
    "r4 = pickle.load(open(\"pickles/om_rval1.pickle\", \"rb\"))\n",
    "rval_pickles = [r1, r2, r3, r4]\n",
    "\n",
    "compare(rval_pickles, ALL_labels, 'authority', legend_pos=(0.903, 0.33), legend=True)\n",
    "\n",
    "# plt.savefig('graphs/meta_all.png', dpi=400, bbox_inches='tight')"
   ]
  }
 ],
 "metadata": {
  "kernelspec": {
   "display_name": "Poverty_Replication",
   "language": "python",
   "name": "python3"
  },
  "language_info": {
   "codemirror_mode": {
    "name": "ipython",
    "version": 3
   },
   "file_extension": ".py",
   "mimetype": "text/x-python",
   "name": "python",
   "nbconvert_exporter": "python",
   "pygments_lexer": "ipython3",
   "version": "3.7.13"
  }
 },
 "nbformat": 4,
 "nbformat_minor": 5
}
